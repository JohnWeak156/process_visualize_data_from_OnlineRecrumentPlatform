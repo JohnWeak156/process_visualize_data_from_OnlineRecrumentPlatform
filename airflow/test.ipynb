{
 "cells": [
  {
   "cell_type": "code",
   "execution_count": 6,
   "metadata": {},
   "outputs": [
    {
     "name": "stdout",
     "output_type": "stream",
     "text": [
      "join complete\n"
     ]
    }
   ],
   "source": [
    "from kafka import KafkaConsumer\n",
    "from cassandra.cluster import Cluster\n",
    "import json\n",
    "import multiprocessing\n",
    "\n",
    "\n",
    "def consume_from_kafka(cassandra_keyspace, kafka_topic, kafka_bootstrap_severs):\n",
    "    cluster = Cluster()\n",
    "    session = cluster.connect(cassandra_keyspace)\n",
    "    consumer = KafkaConsumer(kafka_topic\\\n",
    "                             ,bootstrap_servers= kafka_bootstrap_severs\\\n",
    "                            , value_deserializer=lambda v: json.loads(v.decode('utf-8')))\n",
    "\n",
    "    for message in consumer:\n",
    "        data = message.value\n",
    "        query = f\"\"\" INSERT INTO log_tracking (create_time,bid,campaign_id,custom_track,group_id,job_id,publisher_id,ts) VALUES ('{create_time}',{bid},{campaign_id},'{custom_track}',{group_id},{job_id},{publisher_id},'{ts}')\"\"\"\n",
    "        print(query)\n",
    "        session.execute(query)\n",
    "        print(\"Reading data from kafka topic and write to cassandra done !!!\")\n",
    "    \n",
    "    consumer.close()\n",
    "    cluster.shutdown()\n",
    "\n",
    "if __name__ == \"__main__\":\n",
    "    kafka_bootstrap_severs = \"192.168.56.1:9092\"\n",
    "    kafka_topic = \"log_tracking_k\"\n",
    "    cassandra_keyspace = 'study_de'\n",
    "\n",
    "    process = multiprocessing.Process(target=consume_from_kafka, args= (cassandra_keyspace, kafka_topic, kafka_bootstrap_severs))\n",
    "    process.start()\n",
    "    process.join()"
   ]
  }
 ],
 "metadata": {
  "kernelspec": {
   "display_name": "base",
   "language": "python",
   "name": "python3"
  },
  "language_info": {
   "codemirror_mode": {
    "name": "ipython",
    "version": 3
   },
   "file_extension": ".py",
   "mimetype": "text/x-python",
   "name": "python",
   "nbconvert_exporter": "python",
   "pygments_lexer": "ipython3",
   "version": "3.11.4"
  },
  "orig_nbformat": 4
 },
 "nbformat": 4,
 "nbformat_minor": 2
}
