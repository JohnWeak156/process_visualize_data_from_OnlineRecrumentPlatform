{
 "cells": [
  {
   "cell_type": "code",
   "execution_count": 1,
   "metadata": {},
   "outputs": [],
   "source": [
    "import findspark \n",
    "findspark.init()"
   ]
  },
  {
   "cell_type": "code",
   "execution_count": 2,
   "metadata": {},
   "outputs": [],
   "source": [
    "from pyspark.sql import functions as F\n",
    "from pyspark.sql.types import *\n",
    "from pyspark.sql import SparkSession\n",
    "from pyspark.sql.types import StructType, IntegerType, StringType\n",
    "from pyspark.sql.functions import col"
   ]
  },
  {
   "cell_type": "code",
   "execution_count": 3,
   "metadata": {},
   "outputs": [],
   "source": [
    "scala_version = '2.12'  # TODO: Ensure this is correct\n",
    "spark_version = '3.3.2'\n",
    "packages = [\n",
    "    f'org.apache.spark:spark-sql-kafka-0-10_{scala_version}:{spark_version}',\n",
    "    'org.apache.kafka:kafka-clients:3.3.1'\n",
    "]"
   ]
  },
  {
   "cell_type": "code",
   "execution_count": 4,
   "metadata": {},
   "outputs": [],
   "source": [
    "spark = SparkSession.builder\\\n",
    "   .master(\"local\")\\\n",
    "   .appName(\"kafka-example\")\\\n",
    "   .config(\"spark.jars.packages\", \",\".join(packages))\\\n",
    "   .getOrCreate()"
   ]
  },
  {
   "cell_type": "code",
   "execution_count": 6,
   "metadata": {},
   "outputs": [],
   "source": [
    "df = spark.read.csv('data_test.csv',header=True)"
   ]
  },
  {
   "cell_type": "code",
   "execution_count": 7,
   "metadata": {},
   "outputs": [
    {
     "name": "stdout",
     "output_type": "stream",
     "text": [
      "+---+----------+--------------------+----------------+--------------------+---------+----------+-----+------------------------+---------------------+----------+--------+-----------+------------+------+-------+-------+------+----------+--------------+--------------+-----------+-------+---------+--------+--------+----------------+----------+\n",
      "| id|created_by|        created_date|last_modified_by|  last_modified_date|is_active|     dates|hours|disqualified_application|qualified_application|company_id|group_id|campaign_id|publisher_id|job_id|user_id|bid_set|clicks|spend_hour|invalid_clicks|expired_clicks|impressions|feed_id|  sources|est_time|est_date|est_created_date|conversion|\n",
      "+---+----------+--------------------+----------------+--------------------+---------+----------+-----+------------------------+---------------------+----------+--------+-----------+------------+------+-------+-------+------+----------+--------------+--------------+-----------+-------+---------+--------+--------+----------------+----------+\n",
      "|  1|      null|2022-10-21 09:24:...|            null|2022-10-21 09:24:...|        1|2022-10-21|    6|                    null|                 null|       349|     160|        446|         121| 11039|   null| 0.0000|     1|    0.0000|          null|          null|       null|    108|Cassandra|    null|    null|            null|      null|\n",
      "|  2|      null|2022-10-21 09:24:...|            null|2022-10-21 09:24:...|        1|2022-10-21|    6|                       2|                    0|       349|     160|        446|           0| 11034|   null| 0.5000|     1|    0.5000|          null|          null|       null|      0|Cassandra|    null|    null|            null|      null|\n",
      "|  3|      null|2022-10-26 02:55:...|            null|2022-10-26 02:55:...|        1|2022-10-26|    2|                    null|                 null|         3|    null|        441|           0| 10991|   null| 0.5000|     1|    0.5000|          null|          null|       null|      0|Cassandra|    null|    null|            null|      null|\n",
      "|  4|      null|2022-10-27 06:21:...|            null|2022-10-27 06:21:...|        1|2022-10-27|    1|                    null|                 null|       145|    null|        397|           0|  5063|   null| 0.5000|     1|    0.5000|          null|          null|       null|      0|Cassandra|    null|    null|            null|      null|\n",
      "|  5|      null|2022-10-31 04:06:...|            null|2022-10-31 04:06:...|        1|2022-10-31|    4|                    null|                 null|         3|    null|        454|           0| 11097|   null| 0.5000|     1|    0.5000|          null|          null|       null|    120|Cassandra|    null|    null|            null|      null|\n",
      "|  6|      null|2022-11-01 01:02:...|            null|2022-11-01 01:02:...|        1|2022-11-01|    1|                    null|                 null|       145|    null|        397|           0|  5041|   null| 0.5000|     1|    0.5000|          null|          null|       null|      0|Cassandra|    null|    null|            null|      null|\n",
      "|  7|      null|2022-11-01 08:38:...|            null|2022-11-01 08:38:...|        1|2022-11-01|    8|                    null|                 null|       349|    null|        470|         121| 11245|   null| 4.0500|     1|    4.0500|          null|          null|       null|    127|Cassandra|    null|    null|            null|      null|\n",
      "|  8|      null|2022-11-02 08:55:...|            null|2022-11-02 08:55:...|        1|2022-11-02|    8|                    null|                 null|       349|    null|        483|         121| 11340|   null| 4.0500|     1|    4.0500|          null|          null|       null|    136|Cassandra|    null|    null|            null|      null|\n",
      "|  9|      null|2022-11-02 08:55:...|            null|2022-11-02 08:55:...|        1|2022-11-02|    8|                    null|                 null|       349|    null|        483|           0| 11340|   null| 0.5000|     1|    0.5000|          null|          null|       null|      0|Cassandra|    null|    null|            null|      null|\n",
      "| 10|      null|2022-11-02 09:06:...|            null|2022-11-02 09:06:...|        1|2022-11-02|    9|                    null|                 null|       349|    null|        483|         121| 11341|   null| 4.0500|     1|    4.0500|          null|          null|       null|    136|Cassandra|    null|    null|            null|      null|\n",
      "| 11|      null|2022-11-02 09:13:...|            null|2022-11-02 09:13:...|        1|2022-11-02|    9|                    null|                 null|       349|    null|        483|         121| 11340|   null| 4.0500|     1|    4.0500|          null|          null|       null|    136|Cassandra|    null|    null|            null|      null|\n",
      "+---+----------+--------------------+----------------+--------------------+---------+----------+-----+------------------------+---------------------+----------+--------+-----------+------------+------+-------+-------+------+----------+--------------+--------------+-----------+-------+---------+--------+--------+----------------+----------+\n",
      "\n"
     ]
    }
   ],
   "source": [
    "df.show()"
   ]
  },
  {
   "cell_type": "code",
   "execution_count": 9,
   "metadata": {},
   "outputs": [
    {
     "name": "stdout",
     "output_type": "stream",
     "text": [
      "+---+--------------------+\n",
      "|key|               value|\n",
      "+---+--------------------+\n",
      "|  1|{\"id\":\"1\",\"create...|\n",
      "|  2|{\"id\":\"2\",\"create...|\n",
      "|  3|{\"id\":\"3\",\"create...|\n",
      "|  4|{\"id\":\"4\",\"create...|\n",
      "|  5|{\"id\":\"5\",\"create...|\n",
      "|  6|{\"id\":\"6\",\"create...|\n",
      "|  7|{\"id\":\"7\",\"create...|\n",
      "|  8|{\"id\":\"8\",\"create...|\n",
      "|  9|{\"id\":\"9\",\"create...|\n",
      "| 10|{\"id\":\"10\",\"creat...|\n",
      "| 11|{\"id\":\"11\",\"creat...|\n",
      "+---+--------------------+\n",
      "\n"
     ]
    }
   ],
   "source": [
    "df.selectExpr(\"CAST(id AS STRING) AS key\", \"to_json(struct(*)) AS value\").show()"
   ]
  },
  {
   "cell_type": "code",
   "execution_count": 10,
   "metadata": {},
   "outputs": [],
   "source": [
    "df.selectExpr(\"CAST(id AS STRING) AS key\", \"to_json(struct(*)) AS value\") \\\n",
    "    .write.format(\"kafka\").option(\"kafka.bootstrap.servers\", \"localhost:9092\").option(\"topic\", \"test1\").save()"
   ]
  },
  {
   "cell_type": "code",
   "execution_count": 11,
   "metadata": {},
   "outputs": [],
   "source": [
    "df_read = spark \\\n",
    "  .read \\\n",
    "  .format(\"kafka\") \\\n",
    "  .option(\"kafka.bootstrap.servers\", \"localhost:9092\") \\\n",
    "  .option(\"subscribe\", \"test1\") \\\n",
    "  .load()"
   ]
  },
  {
   "cell_type": "code",
   "execution_count": 12,
   "metadata": {},
   "outputs": [
    {
     "name": "stdout",
     "output_type": "stream",
     "text": [
      "+-------+--------------------+-----+---------+------+--------------------+-------------+\n",
      "|    key|               value|topic|partition|offset|           timestamp|timestampType|\n",
      "+-------+--------------------+-----+---------+------+--------------------+-------------+\n",
      "|   null|    [68 65 6C 6C 6F]|test1|        0|     0|2023-07-05 21:10:...|            0|\n",
      "|   null|[74 68 69 73 20 6...|test1|        0|     1|2023-07-05 21:10:...|            0|\n",
      "|   null|[74 65 73 74 20 6...|test1|        0|     2|2023-07-05 21:12:...|            0|\n",
      "|   null| [68 61 68 61 68 61]|test1|        0|     3|2023-07-05 21:12:...|            0|\n",
      "|   null|       [68 65 68 65]|test1|        0|     4|2023-07-05 21:12:...|            0|\n",
      "|   null|       [61 62 63 20]|test1|        0|     5|2023-07-05 21:12:...|            0|\n",
      "|   null|          [78 79 7A]|test1|        0|     6|2023-07-05 21:12:...|            0|\n",
      "|   null|          [31 32 33]|test1|        0|     7|2023-07-05 21:12:...|            0|\n",
      "|   [31]|[7B 22 69 64 22 3...|test1|        0|     8|2023-07-05 21:19:...|            0|\n",
      "|   [32]|[7B 22 69 64 22 3...|test1|        0|     9|2023-07-05 21:19:...|            0|\n",
      "|   [33]|[7B 22 69 64 22 3...|test1|        0|    10|2023-07-05 21:19:...|            0|\n",
      "|   [34]|[7B 22 69 64 22 3...|test1|        0|    11|2023-07-05 21:19:...|            0|\n",
      "|   [35]|[7B 22 69 64 22 3...|test1|        0|    12|2023-07-05 21:19:...|            0|\n",
      "|   [36]|[7B 22 69 64 22 3...|test1|        0|    13|2023-07-05 21:19:...|            0|\n",
      "|   [37]|[7B 22 69 64 22 3...|test1|        0|    14|2023-07-05 21:19:...|            0|\n",
      "|   [38]|[7B 22 69 64 22 3...|test1|        0|    15|2023-07-05 21:19:...|            0|\n",
      "|   [39]|[7B 22 69 64 22 3...|test1|        0|    16|2023-07-05 21:19:...|            0|\n",
      "|[31 30]|[7B 22 69 64 22 3...|test1|        0|    17|2023-07-05 21:19:...|            0|\n",
      "|[31 31]|[7B 22 69 64 22 3...|test1|        0|    18|2023-07-05 21:19:...|            0|\n",
      "+-------+--------------------+-----+---------+------+--------------------+-------------+\n",
      "\n"
     ]
    }
   ],
   "source": [
    "df_read.show()"
   ]
  },
  {
   "cell_type": "code",
   "execution_count": 13,
   "metadata": {},
   "outputs": [],
   "source": [
    "final_data = df_read.selectExpr(\"CAST(key AS STRING)\", \"CAST(value AS STRING)\")"
   ]
  },
  {
   "cell_type": "code",
   "execution_count": 14,
   "metadata": {},
   "outputs": [],
   "source": [
    "result = final_data.select('value').filter(final_data.key.isNotNull())"
   ]
  },
  {
   "cell_type": "code",
   "execution_count": 15,
   "metadata": {},
   "outputs": [
    {
     "name": "stdout",
     "output_type": "stream",
     "text": [
      "+--------------------+\n",
      "|               value|\n",
      "+--------------------+\n",
      "|{\"id\":\"1\",\"create...|\n",
      "|{\"id\":\"2\",\"create...|\n",
      "|{\"id\":\"3\",\"create...|\n",
      "|{\"id\":\"4\",\"create...|\n",
      "|{\"id\":\"5\",\"create...|\n",
      "|{\"id\":\"6\",\"create...|\n",
      "|{\"id\":\"7\",\"create...|\n",
      "|{\"id\":\"8\",\"create...|\n",
      "|{\"id\":\"9\",\"create...|\n",
      "|{\"id\":\"10\",\"creat...|\n",
      "|{\"id\":\"11\",\"creat...|\n",
      "+--------------------+\n",
      "\n"
     ]
    }
   ],
   "source": [
    "result.show()"
   ]
  },
  {
   "cell_type": "code",
   "execution_count": 16,
   "metadata": {},
   "outputs": [
    {
     "data": {
      "text/plain": [
       "[Row(value='{\"id\":\"1\",\"created_date\":\"2022-10-21 09:24:25.438490\",\"last_modified_date\":\"2022-10-21 09:24:25.438490\",\"is_active\":\"1\",\"dates\":\"2022-10-21\",\"hours\":\"6\",\"company_id\":\"349\",\"group_id\":\"160\",\"campaign_id\":\"446\",\"publisher_id\":\"121\",\"job_id\":\"11039\",\"bid_set\":\"0.0000\",\"clicks\":\"1\",\"spend_hour\":\"0.0000\",\"feed_id\":\"108\",\"sources\":\"Cassandra\"}')]"
      ]
     },
     "execution_count": 16,
     "metadata": {},
     "output_type": "execute_result"
    }
   ],
   "source": [
    "result.take(1)"
   ]
  },
  {
   "cell_type": "code",
   "execution_count": 17,
   "metadata": {},
   "outputs": [],
   "source": [
    "columns = StructType([StructField('id',\n",
    "                                      StringType(), True),\n",
    "                          StructField('created_date',\n",
    "                                      StringType(), True),\n",
    "                          StructField('last_modified_date',\n",
    "                                      StringType(), True),\n",
    "                          StructField('is_active',\n",
    "                                      StringType(), True),\n",
    "                          StructField('dates',\n",
    "                                      StringType(), True),\n",
    "                          StructField('hours',\n",
    "                                      StringType(), True),\n",
    "                          StructField('company_id',\n",
    "                                      StringType(), True),\n",
    "                          StructField('group_id',\n",
    "                                      StringType(), True),\n",
    "                          StructField('campaign_id',\n",
    "                                      StringType(), True),\n",
    "                          StructField('publisher_id',\n",
    "                                      StringType(), True),\n",
    "                          StructField('job_id',\n",
    "                                      StringType(), True),\n",
    "                          StructField('bid_set',\n",
    "                                      StringType(), True),\n",
    "                          StructField('clicks',\n",
    "                                      StringType(), True),\n",
    "                          StructField('spend_hour',\n",
    "                                      StringType(), True),\n",
    "                          StructField('feed_id',\n",
    "                                      StringType(), True),\n",
    "                          StructField('sources',\n",
    "                                      StringType(), True)])"
   ]
  },
  {
   "cell_type": "code",
   "execution_count": 18,
   "metadata": {},
   "outputs": [],
   "source": [
    "haha = result.withColumn('c1', F.from_json('value', schema = columns)).select('c1.*')"
   ]
  },
  {
   "cell_type": "code",
   "execution_count": 19,
   "metadata": {},
   "outputs": [
    {
     "name": "stdout",
     "output_type": "stream",
     "text": [
      "+---+--------------------+--------------------+---------+----------+-----+----------+--------+-----------+------------+------+-------+------+----------+-------+---------+\n",
      "| id|        created_date|  last_modified_date|is_active|     dates|hours|company_id|group_id|campaign_id|publisher_id|job_id|bid_set|clicks|spend_hour|feed_id|  sources|\n",
      "+---+--------------------+--------------------+---------+----------+-----+----------+--------+-----------+------------+------+-------+------+----------+-------+---------+\n",
      "|  1|2022-10-21 09:24:...|2022-10-21 09:24:...|        1|2022-10-21|    6|       349|     160|        446|         121| 11039| 0.0000|     1|    0.0000|    108|Cassandra|\n",
      "|  2|2022-10-21 09:24:...|2022-10-21 09:24:...|        1|2022-10-21|    6|       349|     160|        446|           0| 11034| 0.5000|     1|    0.5000|      0|Cassandra|\n",
      "|  3|2022-10-26 02:55:...|2022-10-26 02:55:...|        1|2022-10-26|    2|         3|    null|        441|           0| 10991| 0.5000|     1|    0.5000|      0|Cassandra|\n",
      "|  4|2022-10-27 06:21:...|2022-10-27 06:21:...|        1|2022-10-27|    1|       145|    null|        397|           0|  5063| 0.5000|     1|    0.5000|      0|Cassandra|\n",
      "|  5|2022-10-31 04:06:...|2022-10-31 04:06:...|        1|2022-10-31|    4|         3|    null|        454|           0| 11097| 0.5000|     1|    0.5000|    120|Cassandra|\n",
      "|  6|2022-11-01 01:02:...|2022-11-01 01:02:...|        1|2022-11-01|    1|       145|    null|        397|           0|  5041| 0.5000|     1|    0.5000|      0|Cassandra|\n",
      "|  7|2022-11-01 08:38:...|2022-11-01 08:38:...|        1|2022-11-01|    8|       349|    null|        470|         121| 11245| 4.0500|     1|    4.0500|    127|Cassandra|\n",
      "|  8|2022-11-02 08:55:...|2022-11-02 08:55:...|        1|2022-11-02|    8|       349|    null|        483|         121| 11340| 4.0500|     1|    4.0500|    136|Cassandra|\n",
      "|  9|2022-11-02 08:55:...|2022-11-02 08:55:...|        1|2022-11-02|    8|       349|    null|        483|           0| 11340| 0.5000|     1|    0.5000|      0|Cassandra|\n",
      "| 10|2022-11-02 09:06:...|2022-11-02 09:06:...|        1|2022-11-02|    9|       349|    null|        483|         121| 11341| 4.0500|     1|    4.0500|    136|Cassandra|\n",
      "| 11|2022-11-02 09:13:...|2022-11-02 09:13:...|        1|2022-11-02|    9|       349|    null|        483|         121| 11340| 4.0500|     1|    4.0500|    136|Cassandra|\n",
      "+---+--------------------+--------------------+---------+----------+-----+----------+--------+-----------+------------+------+-------+------+----------+-------+---------+\n",
      "\n"
     ]
    }
   ],
   "source": [
    "haha.show()"
   ]
  }
 ],
 "metadata": {
  "kernelspec": {
   "display_name": "Python 3",
   "language": "python",
   "name": "python3"
  },
  "language_info": {
   "codemirror_mode": {
    "name": "ipython",
    "version": 3
   },
   "file_extension": ".py",
   "mimetype": "text/x-python",
   "name": "python",
   "nbconvert_exporter": "python",
   "pygments_lexer": "ipython3",
   "version": "3.10.9"
  }
 },
 "nbformat": 4,
 "nbformat_minor": 4
}
