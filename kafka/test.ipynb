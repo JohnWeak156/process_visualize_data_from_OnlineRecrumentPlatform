{
 "cells": [
  {
   "cell_type": "code",
   "execution_count": 14,
   "metadata": {},
   "outputs": [],
   "source": [
    "from kafka import KafkaConsumer\n",
    "from cassandra.cluster import Cluster\n",
    "import json\n",
    "import multiprocessing"
   ]
  },
  {
   "cell_type": "code",
   "execution_count": 15,
   "metadata": {},
   "outputs": [],
   "source": [
    "kafka_bootstrap_severs = \"192.168.56.1:9092\"\n",
    "kafka_topic = \"logtrackingk\"\n",
    "cassandra_keyspace = 'study_de'"
   ]
  },
  {
   "cell_type": "code",
   "execution_count": null,
   "metadata": {},
   "outputs": [],
   "source": [
    "def consume_from_kafka(cassandra_keyspace, kafka_topic, kafka_bootstrap_severs):\n",
    "    cluster = Cluster()\n",
    "    session = cluster.connect(cassandra_keyspace)\n",
    "    consumer = KafkaConsumer(kafka_topic\\\n",
    "                             ,bootstrap_servers= kafka_bootstrap_severs\\\n",
    "                            , value_deserializer=lambda v: json.loads(v.decode('utf-8')))\n",
    "\n",
    "    for message in consumer:\n",
    "        data = message.value\n",
    "        query = f\"\"\" INSERT INTO log_tracking (create_time,bid,campaign_id,custom_track,group_id,job_id,publisher_id,ts) VALUES ('{create_time}',{bid},{campaign_id},'{custom_track}',{group_id},{job_id},{publisher_id},'{ts}')\"\"\"\n",
    "        print(query)\n",
    "        session.execute(query)\n",
    "        print(\"Reading data from kafka topic and write to cassandra done !!!\")"
   ]
  },
  {
   "cell_type": "code",
   "execution_count": 16,
   "metadata": {},
   "outputs": [],
   "source": [
    "cluster = Cluster()\n",
    "session = cluster.connect(cassandra_keyspace)\n",
    "consumer = KafkaConsumer(kafka_topic\\\n",
    "                            ,bootstrap_servers= kafka_bootstrap_severs\\\n",
    "                        , value_deserializer=lambda v: json.loads(v.decode('utf-8')))\n",
    "\n",
    "for message in consumer:\n",
    "    data = message.value\n",
    "    query = f\"\"\" INSERT INTO log_tracking (create_time,bid,campaign_id,custom_track,group_id,job_id,publisher_id,ts) VALUES ('{create_time}',{bid},{campaign_id},'{custom_track}',{group_id},{job_id},{publisher_id},'{ts}')\"\"\"\n",
    "    print(query)\n",
    "    session.execute(query)\n",
    "    print(\"Reading data from kafka topic and write to cassandra done !!!\")"
   ]
  },
  {
   "cell_type": "code",
   "execution_count": null,
   "metadata": {},
   "outputs": [],
   "source": [
    "\n",
    "process = multiprocessing.Process(target=consume_from_kafka, args= (cassandra_keyspace, kafka_topic, kafka_bootstrap_severs))\n",
    "process.start()\n",
    "process.join()"
   ]
  },
  {
   "cell_type": "code",
   "execution_count": 12,
   "metadata": {},
   "outputs": [],
   "source": [
    "import findspark\n",
    "findspark.init()\n",
    "\n",
    "from pyspark.sql import SparkSession\n",
    "\n",
    "scala_version = '2.12'  # TODO: Ensure this is correct\n",
    "spark_version = '3.4.0'\n",
    "kafka_version = '3.5.0'\n",
    "\n",
    "spark = SparkSession.builder\\\n",
    "   .appName(\"kafka-example\")\\\n",
    "   .config(\"spark.jars\", f'spark-sql-kafka-0-10_{scala_version}-{spark_version}.jar')\\\n",
    "   .config('spark.jars', f'kafka-clients-{kafka_version}.jar')\\\n",
    "   .config('spark.jars', 'org.apache.commons:commons-pool2:2.11.1.jar')\\\n",
    "   .getOrCreate()"
   ]
  },
  {
   "cell_type": "code",
   "execution_count": 13,
   "metadata": {},
   "outputs": [
    {
     "name": "stdout",
     "output_type": "stream",
     "text": [
      "+----+--------------------+------------+---------+------+--------------------+-------------+\n",
      "| key|               value|       topic|partition|offset|           timestamp|timestampType|\n",
      "+----+--------------------+------------+---------+------+--------------------+-------------+\n",
      "|null|[7B 22 63 72 65 6...|logtrackingk|        0|     0|2023-08-16 20:43:...|            0|\n",
      "|null|[7B 22 63 72 65 6...|logtrackingk|        0|     1|2023-08-16 20:43:...|            0|\n",
      "|null|[7B 22 63 72 65 6...|logtrackingk|        0|     2|2023-08-16 20:43:...|            0|\n",
      "|null|[7B 22 63 72 65 6...|logtrackingk|        0|     3|2023-08-16 20:43:...|            0|\n",
      "|null|[7B 22 63 72 65 6...|logtrackingk|        0|     4|2023-08-16 20:43:...|            0|\n",
      "+----+--------------------+------------+---------+------+--------------------+-------------+\n",
      "only showing top 5 rows\n",
      "\n"
     ]
    }
   ],
   "source": [
    "df_read = spark\\\n",
    "  .read\\\n",
    "  .format(\"kafka\")\\\n",
    "  .option(\"kafka.bootstrap.servers\", \"192.168.56.1:9092\")\\\n",
    "  .option(\"subscribe\", \"logtrackingk\")\\\n",
    "  .load()\n",
    "  \n",
    "df_read.show(5)"
   ]
  },
  {
   "cell_type": "code",
   "execution_count": null,
   "metadata": {},
   "outputs": [],
   "source": []
  }
 ],
 "metadata": {
  "kernelspec": {
   "display_name": "base",
   "language": "python",
   "name": "python3"
  },
  "language_info": {
   "codemirror_mode": {
    "name": "ipython",
    "version": 3
   },
   "file_extension": ".py",
   "mimetype": "text/x-python",
   "name": "python",
   "nbconvert_exporter": "python",
   "pygments_lexer": "ipython3",
   "version": "3.11.4"
  },
  "orig_nbformat": 4
 },
 "nbformat": 4,
 "nbformat_minor": 2
}
